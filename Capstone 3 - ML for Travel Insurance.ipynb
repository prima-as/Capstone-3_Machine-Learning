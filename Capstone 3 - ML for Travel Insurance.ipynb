{
 "cells": [
  {
   "cell_type": "markdown",
   "id": "dcc0a72d",
   "metadata": {},
   "source": [
    "# **INSURANCE ANALITYCS: TRAVEL INSURANCE CLAIM**\n",
    "\n",
    "**CREATED BY: PRIMA ADE SUKRONO**"
   ]
  },
  {
   "cell_type": "markdown",
   "id": "ae506825",
   "metadata": {},
   "source": [
    "## **BUSINESS PROBLEM UNDERSTANDING**"
   ]
  },
  {
   "cell_type": "markdown",
   "id": "4d82916a",
   "metadata": {},
   "source": [
    "<u>**Context**</u>\n",
    "\n",
    "Asuransi perjalanan adalah jenis asuransi yang memberikan perlindungan selama kita bepergian, baik di dalam negeri maupun luar negeri. Beberapa negara bahkan mewajibkan wisatawan untuk memiliki asuransi perjalanan, misalnya negara-negara di Eropa dan Amerika. Besarnya premi bergantung pada cakupan yang diinginkan, lama perjalanan, dan tujuan perjalanan. Perusahaan asuransi perjalanan ingin mengetahui pemegang polis yang akan mengajukan klaim asuransi. Data pemegang polis di perusahaan asuransi merupakan data historis yang terdiri dari destinasi, produk asuransi, dan sebagainya.\n",
    "\n",
    "Target:\n",
    "- 0: Tidak mengajukan claim (No)\n",
    "- 1: Mengajukan claim (Yes)\n",
    "\n",
    "---\n",
    "\n",
    "<u>**Problem Statement**</u>\n",
    "\n",
    "Prediksi risiko secara manual masih dapat dilakukan oleh tim Underwriting, namun proses ini cenderung memakan waktu lebih lama dan memiliki potensi kesalahan yang lebih tinggi. Keterbatasan dalam memproses kombinasi fitur secara kompleks secara manual dapat menyebabkan kesalahan prediksi—khususnya `False Negative`, yaitu calon nasabah dengan risiko tinggi klaim yang tidak terdeteksi.\n",
    "\n",
    "Jika pendekatan konservatif digunakan, di mana semua calon nasabah diasumsikan akan mengajukan klaim, maka akan terjadi ketidakadilan dalam penetapan premi. Nasabah berisiko rendah diperlakukan sama dengan yang berisiko tinggi, yang dapat menurunkan minat pembelian polis baru dan mendorong nasabah loyal untuk berpindah ke kompetitor yang menawarkan skema premi lebih adil.\n",
    "\n",
    "Untuk meningkatkan efisiensi operasional dan profitabilitas, tim Underwriting memerlukan sistem prediktif berbasis machine learning yang mampu mengidentifikasi calon nasabah dengan risiko klaim tinggi secara lebih akurat, serta memberikan wawasan terhadap faktor-faktor utama yang memengaruhi risiko tersebut. Sistem ini diharapkan mendukung implementasi strategi premi berbasis resiko (risk-based pricing), sehingga penetapan premi dapat lebih tepat sasaran, mengurangi kerugian finansial akibat klaim tak terduga, dan memperkuat daya saing perusahaan di pasar asuransi.\n",
    "\n",
    "---\n",
    "\n",
    "<u>**Tujuan Analisis**</u>\n",
    "\n",
    "1. Memprediksi risiko klaim setiap calon pemegang polis berdasarkan data historis seperti durasi perjalanan, produk asuransi, tujuan perjalanan, usia, dan lainnya.\n",
    "2. Mengidentifikasi faktor-faktor utama (risk drivers) yang menyebabkan nasabah cenderung mengajukan klaim, sebagai dasar untuk:\n",
    "   - Penyesuaian premi individu (risk-based pricing)\n",
    "   - Desain ulang produk dan strategi distribusi\n",
    "   - Segmentasi pelanggan\n",
    "3. Mendukung strategi penetapan harga yang adaptif dengan mempertimbangkan tingkat risiko yang diprediksi oleh model.\n",
    "4. Membantu tim underwriting dan tim terkait membuat keputusan yang lebih akurat terhadap nasabah berisiko tinggi melalui rekomendasi berbasis data.\n",
    "\n",
    "--- \n",
    "\n",
    "<u>**Pendekatan Analitik**</u>\n",
    "\n",
    "Kita akan melakukan analisa dari data historis nasabah untuk mengidentifikasi pola yang membedakan antara nasabah yang mengajukan klaim dan yang tidak, lalu membangun model machine learning untuk memprediksi risiko klaim secara otomatis."
   ]
  },
  {
   "cell_type": "markdown",
   "id": "661ddbd2",
   "metadata": {},
   "source": [
    "<u>**Skenario Awal**</u>\n",
    "\n",
    "Berdasarkan data awal, jika diasumsikan prediksi claim hanya berdasarkan durasi perjalanan lebih dari 30 hari:\n",
    "\n",
    "|Actual\\\\\\Prediksi  |Prediksi Negative          |Prediksi Positif              | \n",
    "|:-----------------:|:-------------------------:|:----------------------------:|\n",
    "|Actual Negative    |TN (26,067)                |FP (17,584) * Cost (100 USD)  |\n",
    "|Actual Positive    |FN (312) * Cost (305 USD)  |TP (365)                      |\n",
    "\n",
    "Maka kerugian yang dapat ditimbulkan adalah:\n",
    "- FN = 312 * 305    =   95,160 USD\n",
    "- FP = 17,584 * 100 =   1,758,400 USD\n",
    "- **Total**         =   1,853,560 USD\n",
    "\n",
    "<u>**Metric Evaluasi**</u>\n",
    "\n",
    "Jika dilihat dari sisi biaya yang ditimbulkan oleh kesalahan prediksi (*bukan total biaya keseluruhan*), maka kesalahan dalam **tidak mendeteksi nasabah yang sebenarnya mengajukan klaim (FN) memiliki dampak biaya yang jauh lebih besar** dibandingkan dengan salah memprediksi nasabah yang sebenarnya tidak mengajukan klaim (FP).\n",
    "\n",
    "Berdasarkan pertimbangan tersebut, model yang dibangun akan difokuskan untuk semaksimal mungkin mendeteksi nasabah yang benar-benar akan mengajukan klaim (TP), serta meminimalkan kesalahan prediksi pada nasabah yang berisiko tinggi untuk claim (FN), tanpa sepenuhnya mengabaikan tingkat kesalahan dalam memprediksi nasabah yang tidak mengajukan claim (FP).\n",
    "\n",
    "Oleh karena itu, metrik evaluasi utama yang akan digunakan adalah **Recall**, karena recall mencerminkan kemampuan model dalam menangkap sebanyak mungkin kasus klaim yang benar."
   ]
  },
  {
   "cell_type": "markdown",
   "id": "95efae9a",
   "metadata": {},
   "source": [
    "## **DATA UNDERSTANDING & CLEANING**"
   ]
  },
  {
   "cell_type": "code",
   "execution_count": 1,
   "id": "eaf03a35",
   "metadata": {},
   "outputs": [],
   "source": [
    "# Import libraries\n",
    "\n",
    "# General libraries\n",
    "import numpy as np\n",
    "import pandas as pd\n",
    "import seaborn as sns\n",
    "import matplotlib.pyplot as plt\n",
    "import plotly.express as px\n",
    "\n",
    "# data splitting\n",
    "from sklearn.model_selection import train_test_split\n",
    "\n",
    "# impute missing values\n",
    "from sklearn.impute import SimpleImputer\n",
    "\n",
    "# preprocessing\n",
    "from sklearn.preprocessing import MinMaxScaler, StandardScaler, RobustScaler\n",
    "from sklearn.preprocessing import OneHotEncoder\n",
    "from category_encoders import OrdinalEncoder, BinaryEncoder\n",
    "from feature_engine.discretisation import ArbitraryDiscretiser\n",
    "\n",
    "# column transformer & pipeline\n",
    "from sklearn.compose import ColumnTransformer\n",
    "from sklearn.pipeline import Pipeline\n",
    "from imblearn.pipeline import Pipeline\n",
    "\n",
    "# cross validation\n",
    "from sklearn.model_selection import cross_val_score\n",
    "\n",
    "# algorithms\n",
    "from sklearn.linear_model import LogisticRegression\n",
    "from sklearn.neighbors import KNeighborsClassifier\n",
    "from sklearn.tree import DecisionTreeClassifier\n",
    "\n",
    "# evaluation metric\n",
    "from sklearn.metrics import precision_score, recall_score, f1_score, confusion_matrix, classification_report\n",
    "\n",
    "# Gridsearch\n",
    "from sklearn.model_selection import GridSearchCV"
   ]
  },
  {
   "cell_type": "markdown",
   "id": "81b0078c",
   "metadata": {},
   "source": [
    "### 1. Load Dataset"
   ]
  },
  {
   "cell_type": "code",
   "execution_count": 2,
   "id": "b11e4e7e",
   "metadata": {},
   "outputs": [],
   "source": [
    "# Import dataset\n",
    "df_travel = pd.read_csv('data_travel_insurance.csv')"
   ]
  },
  {
   "cell_type": "markdown",
   "id": "93ba6595",
   "metadata": {},
   "source": [
    "### 2. Data Understanding"
   ]
  },
  {
   "cell_type": "code",
   "execution_count": 3,
   "id": "4300fdd6",
   "metadata": {},
   "outputs": [
    {
     "data": {
      "application/vnd.microsoft.datawrangler.viewer.v0+json": {
       "columns": [
        {
         "name": "index",
         "rawType": "int64",
         "type": "integer"
        },
        {
         "name": "Agency",
         "rawType": "object",
         "type": "string"
        },
        {
         "name": "Agency Type",
         "rawType": "object",
         "type": "string"
        },
        {
         "name": "Distribution Channel",
         "rawType": "object",
         "type": "string"
        },
        {
         "name": "Product Name",
         "rawType": "object",
         "type": "string"
        },
        {
         "name": "Gender",
         "rawType": "object",
         "type": "unknown"
        },
        {
         "name": "Duration",
         "rawType": "int64",
         "type": "integer"
        },
        {
         "name": "Destination",
         "rawType": "object",
         "type": "string"
        },
        {
         "name": "Net Sales",
         "rawType": "float64",
         "type": "float"
        },
        {
         "name": "Commision (in value)",
         "rawType": "float64",
         "type": "float"
        },
        {
         "name": "Age",
         "rawType": "int64",
         "type": "integer"
        },
        {
         "name": "Claim",
         "rawType": "object",
         "type": "string"
        }
       ],
       "ref": "1361272d-63aa-4a9b-b44b-6bbad03f66bf",
       "rows": [
        [
         "0",
         "C2B",
         "Airlines",
         "Online",
         "Annual Silver Plan",
         "F",
         "365",
         "SINGAPORE",
         "216.0",
         "54.0",
         "57",
         "No"
        ],
        [
         "1",
         "EPX",
         "Travel Agency",
         "Online",
         "Cancellation Plan",
         null,
         "4",
         "MALAYSIA",
         "10.0",
         "0.0",
         "33",
         "No"
        ],
        [
         "2",
         "JZI",
         "Airlines",
         "Online",
         "Basic Plan",
         "M",
         "19",
         "INDIA",
         "22.0",
         "7.7",
         "26",
         "No"
        ],
        [
         "3",
         "EPX",
         "Travel Agency",
         "Online",
         "2 way Comprehensive Plan",
         null,
         "20",
         "UNITED STATES",
         "112.0",
         "0.0",
         "59",
         "No"
        ],
        [
         "4",
         "C2B",
         "Airlines",
         "Online",
         "Bronze Plan",
         "M",
         "8",
         "SINGAPORE",
         "16.0",
         "4.0",
         "28",
         "No"
        ]
       ],
       "shape": {
        "columns": 11,
        "rows": 5
       }
      },
      "text/html": [
       "<div>\n",
       "<style scoped>\n",
       "    .dataframe tbody tr th:only-of-type {\n",
       "        vertical-align: middle;\n",
       "    }\n",
       "\n",
       "    .dataframe tbody tr th {\n",
       "        vertical-align: top;\n",
       "    }\n",
       "\n",
       "    .dataframe thead th {\n",
       "        text-align: right;\n",
       "    }\n",
       "</style>\n",
       "<table border=\"1\" class=\"dataframe\">\n",
       "  <thead>\n",
       "    <tr style=\"text-align: right;\">\n",
       "      <th></th>\n",
       "      <th>Agency</th>\n",
       "      <th>Agency Type</th>\n",
       "      <th>Distribution Channel</th>\n",
       "      <th>Product Name</th>\n",
       "      <th>Gender</th>\n",
       "      <th>Duration</th>\n",
       "      <th>Destination</th>\n",
       "      <th>Net Sales</th>\n",
       "      <th>Commision (in value)</th>\n",
       "      <th>Age</th>\n",
       "      <th>Claim</th>\n",
       "    </tr>\n",
       "  </thead>\n",
       "  <tbody>\n",
       "    <tr>\n",
       "      <th>0</th>\n",
       "      <td>C2B</td>\n",
       "      <td>Airlines</td>\n",
       "      <td>Online</td>\n",
       "      <td>Annual Silver Plan</td>\n",
       "      <td>F</td>\n",
       "      <td>365</td>\n",
       "      <td>SINGAPORE</td>\n",
       "      <td>216.0</td>\n",
       "      <td>54.0</td>\n",
       "      <td>57</td>\n",
       "      <td>No</td>\n",
       "    </tr>\n",
       "    <tr>\n",
       "      <th>1</th>\n",
       "      <td>EPX</td>\n",
       "      <td>Travel Agency</td>\n",
       "      <td>Online</td>\n",
       "      <td>Cancellation Plan</td>\n",
       "      <td>NaN</td>\n",
       "      <td>4</td>\n",
       "      <td>MALAYSIA</td>\n",
       "      <td>10.0</td>\n",
       "      <td>0.0</td>\n",
       "      <td>33</td>\n",
       "      <td>No</td>\n",
       "    </tr>\n",
       "    <tr>\n",
       "      <th>2</th>\n",
       "      <td>JZI</td>\n",
       "      <td>Airlines</td>\n",
       "      <td>Online</td>\n",
       "      <td>Basic Plan</td>\n",
       "      <td>M</td>\n",
       "      <td>19</td>\n",
       "      <td>INDIA</td>\n",
       "      <td>22.0</td>\n",
       "      <td>7.7</td>\n",
       "      <td>26</td>\n",
       "      <td>No</td>\n",
       "    </tr>\n",
       "    <tr>\n",
       "      <th>3</th>\n",
       "      <td>EPX</td>\n",
       "      <td>Travel Agency</td>\n",
       "      <td>Online</td>\n",
       "      <td>2 way Comprehensive Plan</td>\n",
       "      <td>NaN</td>\n",
       "      <td>20</td>\n",
       "      <td>UNITED STATES</td>\n",
       "      <td>112.0</td>\n",
       "      <td>0.0</td>\n",
       "      <td>59</td>\n",
       "      <td>No</td>\n",
       "    </tr>\n",
       "    <tr>\n",
       "      <th>4</th>\n",
       "      <td>C2B</td>\n",
       "      <td>Airlines</td>\n",
       "      <td>Online</td>\n",
       "      <td>Bronze Plan</td>\n",
       "      <td>M</td>\n",
       "      <td>8</td>\n",
       "      <td>SINGAPORE</td>\n",
       "      <td>16.0</td>\n",
       "      <td>4.0</td>\n",
       "      <td>28</td>\n",
       "      <td>No</td>\n",
       "    </tr>\n",
       "  </tbody>\n",
       "</table>\n",
       "</div>"
      ],
      "text/plain": [
       "  Agency    Agency Type Distribution Channel              Product Name Gender  \\\n",
       "0    C2B       Airlines               Online        Annual Silver Plan      F   \n",
       "1    EPX  Travel Agency               Online         Cancellation Plan    NaN   \n",
       "2    JZI       Airlines               Online                Basic Plan      M   \n",
       "3    EPX  Travel Agency               Online  2 way Comprehensive Plan    NaN   \n",
       "4    C2B       Airlines               Online               Bronze Plan      M   \n",
       "\n",
       "   Duration    Destination  Net Sales  Commision (in value)  Age Claim  \n",
       "0       365      SINGAPORE      216.0                  54.0   57    No  \n",
       "1         4       MALAYSIA       10.0                   0.0   33    No  \n",
       "2        19          INDIA       22.0                   7.7   26    No  \n",
       "3        20  UNITED STATES      112.0                   0.0   59    No  \n",
       "4         8      SINGAPORE       16.0                   4.0   28    No  "
      ]
     },
     "execution_count": 3,
     "metadata": {},
     "output_type": "execute_result"
    }
   ],
   "source": [
    "df_travel.head()"
   ]
  },
  {
   "cell_type": "markdown",
   "id": "cdd53430",
   "metadata": {},
   "source": [
    "Setiap baris dalam dataset merepresentasikan satu transaksi penjualan polis asuransi perjalanan, di mana produk asuransi yang sama dapat terjual berkali-kali kepada nasabah yang berbeda atau untuk perjalanan yang berbeda.\n",
    "\n",
    "\n",
    "Penjelasan setiap kolom dalam dataset:\n",
    "\n",
    "- Agency: Nama dari agency.\n",
    "- Agency Type: Jenis dari agen asuransi perjalanan.\n",
    "- Distribution Channel: Channel distribusi dari agen asuransi perjalanan.\n",
    "- Product Name: Nama dari produk asuransi perjalanan.\n",
    "- Gender: Jenis kelamin dari pemegang polis.\n",
    "- Duration: Lama waktu perjalanan. (*karena tidak disebutkan sebelumnya, maka diasumsikan ini dalam bentuk hari*)\n",
    "- Destination: Tujuan perjalanan.\n",
    "- Net Sales: Jumlah penjualan bersih dari polis asuransi perjalanan.\n",
    "- Commission (in value): Komisi yang diterima agen dari hasil penjualan.\n",
    "- Age: Umur dari pemegang polis.\n",
    "- Claim: Status Claim."
   ]
  },
  {
   "cell_type": "code",
   "execution_count": 4,
   "id": "137efdd9",
   "metadata": {},
   "outputs": [
    {
     "name": "stdout",
     "output_type": "stream",
     "text": [
      "<class 'pandas.core.frame.DataFrame'>\n",
      "RangeIndex: 44328 entries, 0 to 44327\n",
      "Data columns (total 11 columns):\n",
      " #   Column                Non-Null Count  Dtype  \n",
      "---  ------                --------------  -----  \n",
      " 0   Agency                44328 non-null  object \n",
      " 1   Agency Type           44328 non-null  object \n",
      " 2   Distribution Channel  44328 non-null  object \n",
      " 3   Product Name          44328 non-null  object \n",
      " 4   Gender                12681 non-null  object \n",
      " 5   Duration              44328 non-null  int64  \n",
      " 6   Destination           44328 non-null  object \n",
      " 7   Net Sales             44328 non-null  float64\n",
      " 8   Commision (in value)  44328 non-null  float64\n",
      " 9   Age                   44328 non-null  int64  \n",
      " 10  Claim                 44328 non-null  object \n",
      "dtypes: float64(2), int64(2), object(7)\n",
      "memory usage: 3.7+ MB\n"
     ]
    }
   ],
   "source": [
    "df_travel.info()"
   ]
  },
  {
   "cell_type": "markdown",
   "id": "9e35d6e1",
   "metadata": {},
   "source": [
    "Total data ada 44,328 baris dan 11 kolom, dimana terlihat ada 1 kolom terdapat missing value yaitu `Gender`, dan Type data terlihat sudah sesuai dengan isi kolom."
   ]
  },
  {
   "cell_type": "code",
   "execution_count": 5,
   "id": "1772f55c",
   "metadata": {},
   "outputs": [
    {
     "data": {
      "application/vnd.microsoft.datawrangler.viewer.v0+json": {
       "columns": [
        {
         "name": "index",
         "rawType": "object",
         "type": "string"
        },
        {
         "name": "Agency",
         "rawType": "object",
         "type": "unknown"
        },
        {
         "name": "Agency Type",
         "rawType": "object",
         "type": "unknown"
        },
        {
         "name": "Distribution Channel",
         "rawType": "object",
         "type": "unknown"
        },
        {
         "name": "Product Name",
         "rawType": "object",
         "type": "unknown"
        },
        {
         "name": "Gender",
         "rawType": "object",
         "type": "unknown"
        },
        {
         "name": "Duration",
         "rawType": "float64",
         "type": "float"
        },
        {
         "name": "Destination",
         "rawType": "object",
         "type": "unknown"
        },
        {
         "name": "Net Sales",
         "rawType": "float64",
         "type": "float"
        },
        {
         "name": "Commision (in value)",
         "rawType": "float64",
         "type": "float"
        },
        {
         "name": "Age",
         "rawType": "float64",
         "type": "float"
        },
        {
         "name": "Claim",
         "rawType": "object",
         "type": "unknown"
        }
       ],
       "ref": "983a5c50-6d22-4577-82f9-8cc8ff0cce14",
       "rows": [
        [
         "count",
         "44328",
         "44328",
         "44328",
         "44328",
         "12681",
         "44328.0",
         "44328",
         "44328.0",
         "44328.0",
         "44328.0",
         "44328"
        ],
        [
         "unique",
         "16",
         "2",
         "2",
         "26",
         "2",
         null,
         "138",
         null,
         null,
         null,
         "2"
        ],
        [
         "top",
         "EPX",
         "Travel Agency",
         "Online",
         "Cancellation Plan",
         "M",
         null,
         "SINGAPORE",
         null,
         null,
         null,
         "No"
        ],
        [
         "freq",
         "24656",
         "32113",
         "43572",
         "12979",
         "6504",
         null,
         "9267",
         null,
         null,
         null,
         "43651"
        ],
        [
         "mean",
         null,
         null,
         null,
         null,
         null,
         "49.42429164410756",
         null,
         "40.55094815917705",
         "9.707691526800216",
         "39.925600072189134",
         null
        ],
        [
         "std",
         null,
         null,
         null,
         null,
         null,
         "109.15396110542265",
         null,
         "48.66197006129917",
         "19.625637467831922",
         "13.95492635318513",
         null
        ],
        [
         "min",
         null,
         null,
         null,
         null,
         null,
         "-1.0",
         null,
         "-357.5",
         "0.0",
         "0.0",
         null
        ],
        [
         "25%",
         null,
         null,
         null,
         null,
         null,
         "9.0",
         null,
         "18.0",
         "0.0",
         "35.0",
         null
        ],
        [
         "50%",
         null,
         null,
         null,
         null,
         null,
         "22.0",
         null,
         "26.5",
         "0.0",
         "36.0",
         null
        ],
        [
         "75%",
         null,
         null,
         null,
         null,
         null,
         "53.0",
         null,
         "48.0",
         "11.55",
         "43.0",
         null
        ],
        [
         "max",
         null,
         null,
         null,
         null,
         null,
         "4881.0",
         null,
         "810.0",
         "283.5",
         "118.0",
         null
        ]
       ],
       "shape": {
        "columns": 11,
        "rows": 11
       }
      },
      "text/html": [
       "<div>\n",
       "<style scoped>\n",
       "    .dataframe tbody tr th:only-of-type {\n",
       "        vertical-align: middle;\n",
       "    }\n",
       "\n",
       "    .dataframe tbody tr th {\n",
       "        vertical-align: top;\n",
       "    }\n",
       "\n",
       "    .dataframe thead th {\n",
       "        text-align: right;\n",
       "    }\n",
       "</style>\n",
       "<table border=\"1\" class=\"dataframe\">\n",
       "  <thead>\n",
       "    <tr style=\"text-align: right;\">\n",
       "      <th></th>\n",
       "      <th>Agency</th>\n",
       "      <th>Agency Type</th>\n",
       "      <th>Distribution Channel</th>\n",
       "      <th>Product Name</th>\n",
       "      <th>Gender</th>\n",
       "      <th>Duration</th>\n",
       "      <th>Destination</th>\n",
       "      <th>Net Sales</th>\n",
       "      <th>Commision (in value)</th>\n",
       "      <th>Age</th>\n",
       "      <th>Claim</th>\n",
       "    </tr>\n",
       "  </thead>\n",
       "  <tbody>\n",
       "    <tr>\n",
       "      <th>count</th>\n",
       "      <td>44328</td>\n",
       "      <td>44328</td>\n",
       "      <td>44328</td>\n",
       "      <td>44328</td>\n",
       "      <td>12681</td>\n",
       "      <td>44328.000000</td>\n",
       "      <td>44328</td>\n",
       "      <td>44328.000000</td>\n",
       "      <td>44328.000000</td>\n",
       "      <td>44328.000000</td>\n",
       "      <td>44328</td>\n",
       "    </tr>\n",
       "    <tr>\n",
       "      <th>unique</th>\n",
       "      <td>16</td>\n",
       "      <td>2</td>\n",
       "      <td>2</td>\n",
       "      <td>26</td>\n",
       "      <td>2</td>\n",
       "      <td>NaN</td>\n",
       "      <td>138</td>\n",
       "      <td>NaN</td>\n",
       "      <td>NaN</td>\n",
       "      <td>NaN</td>\n",
       "      <td>2</td>\n",
       "    </tr>\n",
       "    <tr>\n",
       "      <th>top</th>\n",
       "      <td>EPX</td>\n",
       "      <td>Travel Agency</td>\n",
       "      <td>Online</td>\n",
       "      <td>Cancellation Plan</td>\n",
       "      <td>M</td>\n",
       "      <td>NaN</td>\n",
       "      <td>SINGAPORE</td>\n",
       "      <td>NaN</td>\n",
       "      <td>NaN</td>\n",
       "      <td>NaN</td>\n",
       "      <td>No</td>\n",
       "    </tr>\n",
       "    <tr>\n",
       "      <th>freq</th>\n",
       "      <td>24656</td>\n",
       "      <td>32113</td>\n",
       "      <td>43572</td>\n",
       "      <td>12979</td>\n",
       "      <td>6504</td>\n",
       "      <td>NaN</td>\n",
       "      <td>9267</td>\n",
       "      <td>NaN</td>\n",
       "      <td>NaN</td>\n",
       "      <td>NaN</td>\n",
       "      <td>43651</td>\n",
       "    </tr>\n",
       "    <tr>\n",
       "      <th>mean</th>\n",
       "      <td>NaN</td>\n",
       "      <td>NaN</td>\n",
       "      <td>NaN</td>\n",
       "      <td>NaN</td>\n",
       "      <td>NaN</td>\n",
       "      <td>49.424292</td>\n",
       "      <td>NaN</td>\n",
       "      <td>40.550948</td>\n",
       "      <td>9.707692</td>\n",
       "      <td>39.925600</td>\n",
       "      <td>NaN</td>\n",
       "    </tr>\n",
       "    <tr>\n",
       "      <th>std</th>\n",
       "      <td>NaN</td>\n",
       "      <td>NaN</td>\n",
       "      <td>NaN</td>\n",
       "      <td>NaN</td>\n",
       "      <td>NaN</td>\n",
       "      <td>109.153961</td>\n",
       "      <td>NaN</td>\n",
       "      <td>48.661970</td>\n",
       "      <td>19.625637</td>\n",
       "      <td>13.954926</td>\n",
       "      <td>NaN</td>\n",
       "    </tr>\n",
       "    <tr>\n",
       "      <th>min</th>\n",
       "      <td>NaN</td>\n",
       "      <td>NaN</td>\n",
       "      <td>NaN</td>\n",
       "      <td>NaN</td>\n",
       "      <td>NaN</td>\n",
       "      <td>-1.000000</td>\n",
       "      <td>NaN</td>\n",
       "      <td>-357.500000</td>\n",
       "      <td>0.000000</td>\n",
       "      <td>0.000000</td>\n",
       "      <td>NaN</td>\n",
       "    </tr>\n",
       "    <tr>\n",
       "      <th>25%</th>\n",
       "      <td>NaN</td>\n",
       "      <td>NaN</td>\n",
       "      <td>NaN</td>\n",
       "      <td>NaN</td>\n",
       "      <td>NaN</td>\n",
       "      <td>9.000000</td>\n",
       "      <td>NaN</td>\n",
       "      <td>18.000000</td>\n",
       "      <td>0.000000</td>\n",
       "      <td>35.000000</td>\n",
       "      <td>NaN</td>\n",
       "    </tr>\n",
       "    <tr>\n",
       "      <th>50%</th>\n",
       "      <td>NaN</td>\n",
       "      <td>NaN</td>\n",
       "      <td>NaN</td>\n",
       "      <td>NaN</td>\n",
       "      <td>NaN</td>\n",
       "      <td>22.000000</td>\n",
       "      <td>NaN</td>\n",
       "      <td>26.500000</td>\n",
       "      <td>0.000000</td>\n",
       "      <td>36.000000</td>\n",
       "      <td>NaN</td>\n",
       "    </tr>\n",
       "    <tr>\n",
       "      <th>75%</th>\n",
       "      <td>NaN</td>\n",
       "      <td>NaN</td>\n",
       "      <td>NaN</td>\n",
       "      <td>NaN</td>\n",
       "      <td>NaN</td>\n",
       "      <td>53.000000</td>\n",
       "      <td>NaN</td>\n",
       "      <td>48.000000</td>\n",
       "      <td>11.550000</td>\n",
       "      <td>43.000000</td>\n",
       "      <td>NaN</td>\n",
       "    </tr>\n",
       "    <tr>\n",
       "      <th>max</th>\n",
       "      <td>NaN</td>\n",
       "      <td>NaN</td>\n",
       "      <td>NaN</td>\n",
       "      <td>NaN</td>\n",
       "      <td>NaN</td>\n",
       "      <td>4881.000000</td>\n",
       "      <td>NaN</td>\n",
       "      <td>810.000000</td>\n",
       "      <td>283.500000</td>\n",
       "      <td>118.000000</td>\n",
       "      <td>NaN</td>\n",
       "    </tr>\n",
       "  </tbody>\n",
       "</table>\n",
       "</div>"
      ],
      "text/plain": [
       "       Agency    Agency Type Distribution Channel       Product Name Gender  \\\n",
       "count   44328          44328                44328              44328  12681   \n",
       "unique     16              2                    2                 26      2   \n",
       "top       EPX  Travel Agency               Online  Cancellation Plan      M   \n",
       "freq    24656          32113                43572              12979   6504   \n",
       "mean      NaN            NaN                  NaN                NaN    NaN   \n",
       "std       NaN            NaN                  NaN                NaN    NaN   \n",
       "min       NaN            NaN                  NaN                NaN    NaN   \n",
       "25%       NaN            NaN                  NaN                NaN    NaN   \n",
       "50%       NaN            NaN                  NaN                NaN    NaN   \n",
       "75%       NaN            NaN                  NaN                NaN    NaN   \n",
       "max       NaN            NaN                  NaN                NaN    NaN   \n",
       "\n",
       "            Duration Destination     Net Sales  Commision (in value)  \\\n",
       "count   44328.000000       44328  44328.000000          44328.000000   \n",
       "unique           NaN         138           NaN                   NaN   \n",
       "top              NaN   SINGAPORE           NaN                   NaN   \n",
       "freq             NaN        9267           NaN                   NaN   \n",
       "mean       49.424292         NaN     40.550948              9.707692   \n",
       "std       109.153961         NaN     48.661970             19.625637   \n",
       "min        -1.000000         NaN   -357.500000              0.000000   \n",
       "25%         9.000000         NaN     18.000000              0.000000   \n",
       "50%        22.000000         NaN     26.500000              0.000000   \n",
       "75%        53.000000         NaN     48.000000             11.550000   \n",
       "max      4881.000000         NaN    810.000000            283.500000   \n",
       "\n",
       "                 Age  Claim  \n",
       "count   44328.000000  44328  \n",
       "unique           NaN      2  \n",
       "top              NaN     No  \n",
       "freq             NaN  43651  \n",
       "mean       39.925600    NaN  \n",
       "std        13.954926    NaN  \n",
       "min         0.000000    NaN  \n",
       "25%        35.000000    NaN  \n",
       "50%        36.000000    NaN  \n",
       "75%        43.000000    NaN  \n",
       "max       118.000000    NaN  "
      ]
     },
     "execution_count": 5,
     "metadata": {},
     "output_type": "execute_result"
    }
   ],
   "source": [
    "df_travel.describe(include='all')"
   ]
  },
  {
   "cell_type": "markdown",
   "id": "18c7323a",
   "metadata": {},
   "source": [
    "Dari hasil deskripsi data diatas, ditemukan bahwa terdapat anomali pada isi dari beberapa kolom berikut:\n",
    "- Duration: Minimum hari adalah -1\n",
    "- Net Sales: Minimum penjualannya -357.5\n",
    "- Commision: Minimum dan median-nya 0\n",
    "- Age: Minimumnya 0 dan Maximumnya 118\n",
    "\n",
    "Maka perlu dilakukan pengecekan lebih lanjut pada kolom-kolom tersebut pada tahap pengecekan missing value."
   ]
  },
  {
   "cell_type": "code",
   "execution_count": 6,
   "id": "bd2cc7fb",
   "metadata": {},
   "outputs": [
    {
     "data": {
      "application/vnd.microsoft.datawrangler.viewer.v0+json": {
       "columns": [
        {
         "name": "Claim",
         "rawType": "object",
         "type": "string"
        },
        {
         "name": "proportion",
         "rawType": "float64",
         "type": "float"
        }
       ],
       "ref": "98f35ba2-6975-4961-969b-47420d488a06",
       "rows": [
        [
         "No",
         "0.984727486013355"
        ],
        [
         "Yes",
         "0.01527251398664501"
        ]
       ],
       "shape": {
        "columns": 1,
        "rows": 2
       }
      },
      "text/plain": [
       "Claim\n",
       "No     0.984727\n",
       "Yes    0.015273\n",
       "Name: proportion, dtype: float64"
      ]
     },
     "execution_count": 6,
     "metadata": {},
     "output_type": "execute_result"
    }
   ],
   "source": [
    "df_travel['Claim'].value_counts(normalize=True)"
   ]
  },
  {
   "cell_type": "markdown",
   "id": "21fa30d1",
   "metadata": {},
   "source": [
    "Proporsi data terlihat imbalance, dimana 98% data tersebar pada nasabah yang tidak claim (No), sedangkan hanya 2% persen data pada nasabah yang claim (Yes). Perlu dilakukan percobaan balancing data pada tahap imbalance treatment."
   ]
  },
  {
   "cell_type": "markdown",
   "id": "c6c8252f",
   "metadata": {},
   "source": [
    "Kesimpulan dari data understanding ini adalah:\n",
    "1. Setiap baris dalam dataset merepresentasikan satu transaksi penjualan polis asuransi perjalanan.\n",
    "2. Terdapat 1 Kolom yang beberapa nilainya hilang, yaitu kolom `Gender`\n",
    "3. Terdapat 4 kolom yang memiliki anomali pada isinya yang perlu dilakukan pengecekan lebih lanjut, yaitu kolom `Duration`, `Net Sales`, `Commission`, dan `Age`.\n",
    "4. Proporsi data terlihat imbalance, dimana 98% tersebar pada target 'No' dan hanya 2% tersebar pada target 'Yes'. Perlu dilakukan percobaan imbalance treatment untuk membandingkan performa sebelum dan setelah balancing."
   ]
  },
  {
   "cell_type": "markdown",
   "id": "28a42174",
   "metadata": {},
   "source": [
    "### 3. Data Cleaning"
   ]
  },
  {
   "cell_type": "markdown",
   "id": "7df190d2",
   "metadata": {},
   "source": [
    "#### A. Missing Value"
   ]
  },
  {
   "cell_type": "code",
   "execution_count": 7,
   "id": "c97e5ca9",
   "metadata": {
    "notebookRunGroups": {
     "groupValue": "2"
    }
   },
   "outputs": [
    {
     "ename": "SyntaxError",
     "evalue": "closing parenthesis ']' does not match opening parenthesis '(' on line 8 (782983592.py, line 10)",
     "output_type": "error",
     "traceback": [
      "  \u001b[36mCell\u001b[39m\u001b[36m \u001b[39m\u001b[32mIn[7]\u001b[39m\u001b[32m, line 10\u001b[39m\n\u001b[31m    \u001b[39m\u001b[31mdf_travel[col].max(numeric_only=True)])\u001b[39m\n                                         ^\n\u001b[31mSyntaxError\u001b[39m\u001b[31m:\u001b[39m closing parenthesis ']' does not match opening parenthesis '(' on line 8\n"
     ]
    }
   ],
   "source": [
    "list_item = []\n",
    "num_col = df_travel.select_dtypes(include='number').columns\n",
    "\n",
    "for col in df_travel.columns :\n",
    "    list_item.append([col, df_travel[col].isna().sum(), \n",
    "                      round((df_travel[col].isna().sum()/len(df_travel[col])) * 100, 2)])\n",
    "    if col in num_col:\n",
    "        list_item.append(df_travel[col].min(numeric_only=True),\n",
    "                      df_travel[col].median(numeric_only=True),\n",
    "                      df_travel[col].max(numeric_only=True)])\n",
    "\n",
    "df_info = pd.DataFrame(data=list_\n",
    "                       item, columns=['features', 'null', 'null_perc'])\n",
    "df_info"
   ]
  },
  {
   "cell_type": "markdown",
   "id": "3c442855",
   "metadata": {},
   "source": [
    "## **EXPLORATORY DATA ANALYSIS (EDA)**"
   ]
  },
  {
   "cell_type": "markdown",
   "id": "fc7230a0",
   "metadata": {},
   "source": [
    "## **DATA PREPARATION**"
   ]
  },
  {
   "cell_type": "markdown",
   "id": "9c4e0f51",
   "metadata": {},
   "source": [
    "### 1. Define Feature (X) & Target (y)"
   ]
  },
  {
   "cell_type": "markdown",
   "id": "5441994d",
   "metadata": {},
   "source": [
    "### 2. Data Splitting"
   ]
  },
  {
   "cell_type": "markdown",
   "id": "70effeb7",
   "metadata": {},
   "source": [
    "### 3. Preprocessing"
   ]
  },
  {
   "cell_type": "markdown",
   "id": "6271e2a6",
   "metadata": {},
   "source": [
    "## **MODELLING & EVALUATION**"
   ]
  },
  {
   "cell_type": "markdown",
   "id": "0f434cc0",
   "metadata": {},
   "source": [
    "### 1. Cross Validation"
   ]
  },
  {
   "cell_type": "markdown",
   "id": "fa1fe331",
   "metadata": {},
   "source": [
    "### 2. Hyperparameter Tuning"
   ]
  },
  {
   "cell_type": "markdown",
   "id": "bf408be3",
   "metadata": {},
   "source": [
    "### 3. Prediction"
   ]
  },
  {
   "cell_type": "markdown",
   "id": "afaf014a",
   "metadata": {},
   "source": [
    "### 4. Evaluation"
   ]
  },
  {
   "cell_type": "markdown",
   "id": "1d7cc957",
   "metadata": {},
   "source": []
  }
 ],
 "metadata": {
  "kernelspec": {
   "display_name": "Python 3",
   "language": "python",
   "name": "python3"
  },
  "language_info": {
   "codemirror_mode": {
    "name": "ipython",
    "version": 3
   },
   "file_extension": ".py",
   "mimetype": "text/x-python",
   "name": "python",
   "nbconvert_exporter": "python",
   "pygments_lexer": "ipython3",
   "version": "3.13.5"
  }
 },
 "nbformat": 4,
 "nbformat_minor": 5
}
